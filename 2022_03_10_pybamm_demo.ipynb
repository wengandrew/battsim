{
 "cells": [
  {
   "cell_type": "markdown",
   "metadata": {},
   "source": [
    "# PyBaMM Demo\n",
    "\n",
    "Andrew Weng\n",
    "\n",
    "3/10/2022"
   ]
  },
  {
   "cell_type": "code",
   "execution_count": 1,
   "metadata": {},
   "outputs": [],
   "source": [
    "import pybamm"
   ]
  },
  {
   "cell_type": "code",
   "execution_count": 30,
   "metadata": {},
   "outputs": [],
   "source": [
    "# experiment = pybamm.Experiment(\n",
    "#    [\n",
    "#        (\"Discharge at C/10 for 10 hours or until 3.3 V\",\n",
    "#        \"Rest for 1 hour\",\n",
    "#        \"Charge at 1 A until 4.1 V\",\n",
    "#        \"Hold at 4.1 V until 50 mA\",\n",
    "#        \"Rest for 1 hour\"),\n",
    "#    ] * 3\n",
    "\n",
    "experiment = pybamm.Experiment(\n",
    "    [\n",
    "        \"Charge at C/10 until 4.1V\",\n",
    "        \"Hold at 4.1V until 100 mA\",\n",
    "        \"Rest for 15 minutes\",\n",
    "        \"Discharge at C/10 for 30 minutes\",\n",
    "        \"Rest for 15 minutes\",\n",
    "    ],\n",
    ")"
   ]
  },
  {
   "cell_type": "code",
   "execution_count": 31,
   "metadata": {},
   "outputs": [
    {
     "data": {
      "application/vnd.jupyter.widget-view+json": {
       "model_id": "328c989faa954bea9f138bc891a5e7ea",
       "version_major": 2,
       "version_minor": 0
      },
      "text/plain": [
       "interactive(children=(FloatSlider(value=0.0, description='t', max=27.328280672019982, step=0.27328280672019983…"
      ]
     },
     "metadata": {},
     "output_type": "display_data"
    },
    {
     "data": {
      "text/plain": [
       "<pybamm.plotting.quick_plot.QuickPlot at 0x7f4242bdca30>"
      ]
     },
     "execution_count": 31,
     "metadata": {},
     "output_type": "execute_result"
    }
   ],
   "source": [
    "model = pybamm.lithium_ion.DFN()\n",
    "sim = pybamm.Simulation(model, experiment=experiment)\n",
    "\n",
    "sim.solve()\n",
    "sim.plot()"
   ]
  },
  {
   "cell_type": "code",
   "execution_count": null,
   "metadata": {},
   "outputs": [],
   "source": []
  },
  {
   "cell_type": "code",
   "execution_count": null,
   "metadata": {},
   "outputs": [],
   "source": []
  }
 ],
 "metadata": {
  "interpreter": {
   "hash": "cefeec8b599e91bf1206d3cdc1d83235af8c4647352d749a3a56bb61f1c81dec"
  },
  "kernelspec": {
   "display_name": "Python 3 (ipykernel)",
   "language": "python",
   "name": "python3"
  },
  "language_info": {
   "codemirror_mode": {
    "name": "ipython",
    "version": 3
   },
   "file_extension": ".py",
   "mimetype": "text/x-python",
   "name": "python",
   "nbconvert_exporter": "python",
   "pygments_lexer": "ipython3",
   "version": "3.8.10"
  }
 },
 "nbformat": 4,
 "nbformat_minor": 2
}
