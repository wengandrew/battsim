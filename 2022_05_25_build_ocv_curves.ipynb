{
 "cells": [
  {
   "cell_type": "markdown",
   "id": "7a03ad61",
   "metadata": {},
   "source": [
    "# Extract Full Cell OCV Curves From Simulation\n",
    "\n",
    "April 25, 2022\n",
    "\n",
    "Andrew Weng\n",
    "\n",
    "Need OCV curves? Why not use PyBaMM to build it for you?"
   ]
  },
  {
   "cell_type": "code",
   "execution_count": 1,
   "id": "d5684ae3",
   "metadata": {},
   "outputs": [],
   "source": [
    "import pybamm\n",
    "import pandas as pd"
   ]
  },
  {
   "cell_type": "code",
   "execution_count": 2,
   "id": "1befd016",
   "metadata": {},
   "outputs": [],
   "source": [
    "# Prada2013: LFP/Gr\n",
    "# Chen2020: NMC/Gr"
   ]
  },
  {
   "cell_type": "code",
   "execution_count": 11,
   "id": "5b63f161",
   "metadata": {},
   "outputs": [
    {
     "data": {
      "text/plain": [
       "{'chemistry': 'lithium_ion',\n",
       " 'cell': 'LGM50_Chen2020',\n",
       " 'negative electrode': 'graphite_Chen2020',\n",
       " 'separator': 'separator_Chen2020',\n",
       " 'positive electrode': 'nmc_Chen2020',\n",
       " 'electrolyte': 'lipf6_Nyman2008',\n",
       " 'experiment': '1C_discharge_from_full_Chen2020',\n",
       " 'sei': 'example',\n",
       " 'citation': 'Chen2020'}"
      ]
     },
     "execution_count": 11,
     "metadata": {},
     "output_type": "execute_result"
    }
   ],
   "source": [
    "parameter_values = pybamm.ParameterValues(\"Chen2020\")\n",
    "pybamm.parameter_sets.Chen2020"
   ]
  },
  {
   "cell_type": "code",
   "execution_count": 12,
   "id": "9594420a",
   "metadata": {},
   "outputs": [],
   "source": [
    "experiment = pybamm.Experiment(\n",
    "    [\n",
    "        \"Discharge at C/10 until 2.7V\",\n",
    "        \"Rest for 15 minutes\", \n",
    "        \"Discharge at C/10 until 2.7V\",\n",
    "        \"Rest for 15 minutes\",\n",
    "        \"Charge at C/500 until 4.2V\",\n",
    "        \"Rest for 20 hours\",\n",
    "    ],\n",
    ")"
   ]
  },
  {
   "cell_type": "code",
   "execution_count": 13,
   "id": "dad8071a",
   "metadata": {},
   "outputs": [
    {
     "data": {
      "application/vnd.jupyter.widget-view+json": {
       "model_id": "345db5f073b94e76a967b8ef951ceb7c",
       "version_major": 2,
       "version_minor": 0
      },
      "text/plain": [
       "interactive(children=(FloatSlider(value=0.0, description='t', max=539.0361948001392, step=5.3903619480013925),…"
      ]
     },
     "metadata": {},
     "output_type": "display_data"
    },
    {
     "data": {
      "text/plain": [
       "<pybamm.plotting.quick_plot.QuickPlot at 0x7fb76187ebb0>"
      ]
     },
     "execution_count": 13,
     "metadata": {},
     "output_type": "execute_result"
    }
   ],
   "source": [
    "model = pybamm.lithium_ion.DFN()\n",
    "sim = pybamm.Simulation(model, experiment=experiment, parameter_values=parameter_values)\n",
    "\n",
    "sim.solve()\n",
    "sim.plot()"
   ]
  },
  {
   "cell_type": "markdown",
   "id": "6e2da84c",
   "metadata": {},
   "source": [
    "## Package and export"
   ]
  },
  {
   "cell_type": "code",
   "execution_count": 14,
   "id": "3d80d8dd",
   "metadata": {},
   "outputs": [],
   "source": [
    "soln = sim.solution\n",
    "t = soln['Time [s]'].entries\n",
    "V = soln['Terminal voltage [V]'].entries\n",
    "I = soln['Current [A]'].entries"
   ]
  },
  {
   "cell_type": "code",
   "execution_count": 15,
   "id": "f2f57265",
   "metadata": {},
   "outputs": [],
   "source": [
    "mydict = {}\n",
    "mydict['t'] = t\n",
    "mydict['V'] = V\n",
    "mydict['I'] = I"
   ]
  },
  {
   "cell_type": "code",
   "execution_count": 16,
   "id": "51108976",
   "metadata": {},
   "outputs": [],
   "source": [
    "df = pd.DataFrame(mydict)"
   ]
  },
  {
   "cell_type": "code",
   "execution_count": 17,
   "id": "9889aefa",
   "metadata": {},
   "outputs": [],
   "source": [
    "df.to_csv('ocv_Chen2020.csv')"
   ]
  },
  {
   "cell_type": "code",
   "execution_count": null,
   "id": "31c19a32",
   "metadata": {},
   "outputs": [],
   "source": []
  }
 ],
 "metadata": {
  "kernelspec": {
   "display_name": "Python 3 (ipykernel)",
   "language": "python",
   "name": "python3"
  },
  "language_info": {
   "codemirror_mode": {
    "name": "ipython",
    "version": 3
   },
   "file_extension": ".py",
   "mimetype": "text/x-python",
   "name": "python",
   "nbconvert_exporter": "python",
   "pygments_lexer": "ipython3",
   "version": "3.8.10"
  }
 },
 "nbformat": 4,
 "nbformat_minor": 5
}
