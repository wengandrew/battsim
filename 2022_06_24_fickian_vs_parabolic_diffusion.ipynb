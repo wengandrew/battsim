{
 "cells": [
  {
   "cell_type": "markdown",
   "id": "7b39452d",
   "metadata": {},
   "source": [
    "# How accurate is a parabolic diffusion profile compared to the Fickian case?"
   ]
  },
  {
   "cell_type": "markdown",
   "id": "189a28ea",
   "metadata": {},
   "source": [
    "Credit: Tino Sulzer, as usual"
   ]
  },
  {
   "cell_type": "code",
   "execution_count": 1,
   "id": "e076b744",
   "metadata": {},
   "outputs": [
    {
     "data": {
      "application/vnd.jupyter.widget-view+json": {
       "model_id": "a4a0499caee442489fc8ebe18ef69076",
       "version_major": 2,
       "version_minor": 0
      },
      "text/plain": [
       "interactive(children=(FloatSlider(value=0.0, description='t', max=662.6165736498338, step=6.626165736498337), …"
      ]
     },
     "metadata": {},
     "output_type": "display_data"
    },
    {
     "data": {
      "text/plain": [
       "<pybamm.plotting.quick_plot.QuickPlot at 0x7fccd2d4ee80>"
      ]
     },
     "execution_count": 1,
     "metadata": {},
     "output_type": "execute_result"
    }
   ],
   "source": [
    "import pybamm\n",
    "\n",
    "models = [\n",
    "    pybamm.lithium_ion.SPM({\"particle\": \"quadratic profile\"}, name=\"quadratic\"),\n",
    "    pybamm.lithium_ion.SPM(name=\"Fickian\"),\n",
    "]\n",
    "sims = []\n",
    "\n",
    "for model in models:\n",
    "    sim = pybamm.Simulation(model, C_rate=5)\n",
    "    sim.solve([0, 3600])\n",
    "    sims.append(sim)\n",
    "\n",
    "# plot\n",
    "pybamm.dynamic_plot(\n",
    "    sims,\n",
    "    [\n",
    "        \"X-averaged negative particle concentration\",\n",
    "        \"X-averaged positive particle concentration\",\n",
    "    ],\n",
    ")"
   ]
  },
  {
   "cell_type": "code",
   "execution_count": null,
   "id": "91d90419",
   "metadata": {},
   "outputs": [],
   "source": []
  }
 ],
 "metadata": {
  "kernelspec": {
   "display_name": "Python 3 (ipykernel)",
   "language": "python",
   "name": "python3"
  },
  "language_info": {
   "codemirror_mode": {
    "name": "ipython",
    "version": 3
   },
   "file_extension": ".py",
   "mimetype": "text/x-python",
   "name": "python",
   "nbconvert_exporter": "python",
   "pygments_lexer": "ipython3",
   "version": "3.8.8"
  }
 },
 "nbformat": 4,
 "nbformat_minor": 5
}
